{
 "cells": [
  {
   "cell_type": "code",
   "execution_count": null,
   "id": "da36dcf1-0db4-4ca1-bb2d-46e37ef32c75",
   "metadata": {},
   "outputs": [],
   "source": [
    "# 1.What is Python, and why is it popular?\n",
    "#  - Python is a interpreted programming language known for its readibility and simplicity. It is populer for its wide range of libraries, ease to learning,globally usage, communitly supports etc."
   ]
  },
  {
   "cell_type": "code",
   "execution_count": null,
   "id": "4a41fc08-cb93-4cbf-8158-da5109331223",
   "metadata": {},
   "outputs": [],
   "source": [
    "# 2.What is an interpreter in Python?\n",
    "#  - The python interpreter is a programme that reeads  and executes python codes line by line"
   ]
  },
  {
   "cell_type": "code",
   "execution_count": null,
   "id": "e1af9b4e-2783-46ed-b7e6-7bacb5f38dd0",
   "metadata": {},
   "outputs": [],
   "source": [
    "# 3.What are pre-defined keywords in Python?\n",
    "# - Pre-defined keywords are reserved words that have special meaning in python. like if,else,elif,print,for,while,break,continue etc."
   ]
  },
  {
   "cell_type": "code",
   "execution_count": null,
   "id": "cdc83dd3-cbc8-4e35-93f7-28d5b4700f3b",
   "metadata": {},
   "outputs": [],
   "source": [
    "# 4.Can keywords be used as variable names/\n",
    "# - No, keywords cannot be used as variable names because they are reserved for special meanings and purpose in the language."
   ]
  },
  {
   "cell_type": "code",
   "execution_count": null,
   "id": "cfd7427c-f796-4fbd-9e8e-addeacbed9bf",
   "metadata": {},
   "outputs": [],
   "source": [
    "# 5.What is mutability in Python?\n",
    "# - Mutability refers to whether an object's value can be changed or not after it is created."
   ]
  },
  {
   "cell_type": "code",
   "execution_count": null,
   "id": "7bc943c1-2503-46b0-afc9-4ab9894047b4",
   "metadata": {},
   "outputs": [],
   "source": [
    "# 6.Why are lists mutable, but tuples are immutable?\n",
    "# - Lists are designed to be modified, making them mutable but tuples are fixed and used for storing constant data, hence it is immutable."
   ]
  },
  {
   "cell_type": "code",
   "execution_count": null,
   "id": "cde7cac3-20ef-4644-804f-b1ed381828b8",
   "metadata": {},
   "outputs": [],
   "source": [
    "# 7.What is the difference between “==” and “is” operators in Python?\n",
    "# - == is a comparison operator, it checks if the values are equal. 'is' is a identity operator, it checks if two variables point to the same memory location."
   ]
  },
  {
   "cell_type": "code",
   "execution_count": null,
   "id": "f71659e5-62a0-4022-b143-2d92a80ac14d",
   "metadata": {},
   "outputs": [],
   "source": [
    "# 8.What are logical operators in Python?\n",
    "# - Logical operators are 'and', 'or' and 'not'. They are used to combine conditional statements."
   ]
  },
  {
   "cell_type": "code",
   "execution_count": null,
   "id": "ccf3f41a-d129-4e0c-b3be-e72971ef9a16",
   "metadata": {},
   "outputs": [],
   "source": [
    "# 9.What is type casting in Python?\n",
    "# - Type casting is the conversion of one data type to another like - string to integer, integer to float etc."
   ]
  },
  {
   "cell_type": "code",
   "execution_count": null,
   "id": "10921dc4-e4b2-419b-be11-dda30c98988d",
   "metadata": {},
   "outputs": [],
   "source": [
    "# 10.What is the difference between implicit and explicit type casting?\n",
    "# - Implicit type casting automatically done by python, like int to float. Explicit type casting manually done by the programmer using functions like int(), float()."
   ]
  },
  {
   "cell_type": "code",
   "execution_count": null,
   "id": "d1e5feba-4869-4eed-ae04-21b76cf734c5",
   "metadata": {},
   "outputs": [],
   "source": [
    "# 11.What is the purpose of conditional statements in Python?\n",
    "# - To execute different code blocks based on whether a condition is true or false."
   ]
  },
  {
   "cell_type": "code",
   "execution_count": null,
   "id": "17fbe104-c31d-4b7b-af3b-eb8d2f3d46d5",
   "metadata": {},
   "outputs": [],
   "source": [
    "# 12.How does the elif statement work?\n",
    "# - The elif statement checks multiple conditions sequentially after an if statement."
   ]
  },
  {
   "cell_type": "code",
   "execution_count": null,
   "id": "24659a72-8f7b-4272-ad50-e39b2f49be63",
   "metadata": {},
   "outputs": [],
   "source": [
    "# 13.What is the difference between for and while loops?\n",
    "# - 'for' is used for iterating over a sequence but 'while' runs as lpng as a condition is true."
   ]
  },
  {
   "cell_type": "code",
   "execution_count": null,
   "id": "07d84ad4-f5f1-4cda-992e-d61409f81659",
   "metadata": {},
   "outputs": [],
   "source": [
    "# 14.Describe a scenario where a while loop is more suitable than a for loop?\n",
    "# - When the number of iterations is unknown and depends on a condition, such as waiting for a user input to meet a certain requirement."
   ]
  },
  {
   "cell_type": "code",
   "execution_count": null,
   "id": "973e28df-b7b9-4cbf-9951-502079410656",
   "metadata": {},
   "outputs": [],
   "source": [
    "# 1.Write a Python program to print \"Hello, World!\"\n",
    "print(\"Hello, World!\")"
   ]
  },
  {
   "cell_type": "code",
   "execution_count": null,
   "id": "c04ea950-25e0-4f8a-92be-90d8428a5a0d",
   "metadata": {},
   "outputs": [],
   "source": [
    "# 2.Write a Python program that displays your name and age.\n",
    "name = \"Biswajit Ghosh\"\n",
    "print(\"Name:\", name)\n",
    "print(\"Age:\", 29)"
   ]
  },
  {
   "cell_type": "code",
   "execution_count": null,
   "id": "ccc7bdc4-3c2e-4468-99d8-cedc3ca5c76e",
   "metadata": {},
   "outputs": [],
   "source": [
    "# 3.Write code to print all the pre-defined keywords in Python using the keyword library.\n",
    "help(\"keyword\")"
   ]
  },
  {
   "cell_type": "code",
   "execution_count": null,
   "id": "949830ab-dd40-45e1-b765-3f50768f80f4",
   "metadata": {},
   "outputs": [],
   "source": [
    "# 4.Write a program that checks if a given word is a Python keyword.\n",
    "word=input(\"Enter a Word:\")\n",
    "if keyword.iskeyword(word):\n",
    "    print(f\"'{word}' is a Python Keyword.\")\n",
    "else:\n",
    "    print(f\"'{word}' is not a Python Keyword.\")"
   ]
  },
  {
   "cell_type": "code",
   "execution_count": null,
   "id": "e8740591-b312-452a-a864-898f73c40be6",
   "metadata": {},
   "outputs": [],
   "source": [
    "# 5.Create a list and tuple in Python, and demonstrate how attempting to change an element works differently.\n",
    "# List\n",
    "my_list=[12,34,56]\n",
    "my_list[2]=65\n",
    "print(\"List:\", my_list)\n",
    "# Tuple\n",
    "my_tuple=(11,22,33)\n",
    "#my_tuple[1]=44 # this will raise error\n",
    "print(my_tuple)"
   ]
  },
  {
   "cell_type": "code",
   "execution_count": null,
   "id": "5747b639-6eda-4bf8-9ad2-ca99b0ed738b",
   "metadata": {},
   "outputs": [],
   "source": [
    "# 6.Write a function to demonstrate the behavior of mutable and immutable arguments.\n",
    "def modify_data(a,b):\n",
    "    a += 10 # immutable integer\n",
    "b.append(10) # mutable list\n",
    "print(\"A:\", a,b)\n",
    "x = 5\n",
    "y = [1,2"
   ]
  },
  {
   "cell_type": "code",
   "execution_count": null,
   "id": "319a57ce-0c04-4110-b818-c2f21fc2f32e",
   "metadata": {},
   "outputs": [],
   "source": [
    "# 7.Write a program that performs basic arithmetic operations on two user-input numbers.\n",
    "a=float(input(\"Enter first number\"))\n",
    "b=float(input(\"Enter second number\"))\n",
    "print(\"Addition:\", (a+b))\n",
    "print(\"Subtraction:\", (a-b))\n",
    "print(\"Multiplication:\", (a*b))\n",
    "print(\"Division:\", (a/b))"
   ]
  },
  {
   "cell_type": "code",
   "execution_count": null,
   "id": "bcec6011-2c24-443b-8511-cd14f976f147",
   "metadata": {},
   "outputs": [],
   "source": [
    "# 8.Write a program to demonstrate the use of logical operators.\n",
    "x=5\n",
    "y=10\n",
    "print(x>5 and y<10)\n",
    "print(x<6 and y<11)"
   ]
  },
  {
   "cell_type": "code",
   "execution_count": null,
   "id": "8c4fa8c3-d43e-42d9-945b-820c8ef105e8",
   "metadata": {},
   "outputs": [],
   "source": [
    "# 9.Write a Python program to convert user input from string to integer, float, and boolean types.\n",
    "a=input(\"Enter a value\")\n",
    "print(\"Integer\",int(a))\n",
    "print(\"Float\",float(a))\n",
    "print(\"Boolean\",bool(a))"
   ]
  },
  {
   "cell_type": "code",
   "execution_count": null,
   "id": "ca34b593-8208-4b52-91a9-14f47463d729",
   "metadata": {},
   "outputs": [],
   "source": [
    "# 10.Write code to demonstrate type casting with list elements.\n",
    "string=[\"1\",\"2\",\"3\"]\n",
    "integer=[int(i) for i in string]\n",
    "print(integer)"
   ]
  },
  {
   "cell_type": "code",
   "execution_count": null,
   "id": "d44ac4e3-edd5-4ea8-a305-1b9ab4df6a89",
   "metadata": {},
   "outputs": [],
   "source": [
    "# 11.Write a program that checks if a number is positive, negative, or zero.\n",
    "num=float(input(\"Enter a number\"))\n",
    "if num>0:\n",
    "    print(\"Positive Number\")\n",
    "elif num<0:\n",
    "    print(\"Negative Number\")\n",
    "else:\n",
    "    print(\"The number is zero\")"
   ]
  },
  {
   "cell_type": "code",
   "execution_count": null,
   "id": "6cf2c3c2-95d7-4834-8a67-4a4132eebdb9",
   "metadata": {},
   "outputs": [],
   "source": [
    "# 12.Write a for loop to print numbers from 1 to 10.\n",
    "for i in range(1,11):\n",
    "    print(i)"
   ]
  },
  {
   "cell_type": "code",
   "execution_count": null,
   "id": "9ed91106-04c0-441d-bc8f-b0c58d1e564c",
   "metadata": {},
   "outputs": [],
   "source": [
    "# 13.Write a Python program to find the sum of all even numbers between 1 and 50.\n",
    "total=0\n",
    "for i in range(2,51,2):\n",
    "    total+=i\n",
    "    print(\"Sum of all even numbers between 1 and 50:\",total)"
   ]
  },
  {
   "cell_type": "code",
   "execution_count": null,
   "id": "769b255b-ab8e-453f-8664-ca28d5a697c1",
   "metadata": {},
   "outputs": [],
   "source": [
    "# 14.Write a program to reverse a string using a while loop.\n",
    "string=input(\"Enter a string:\")\n",
    "reversed_string=\"\"\n",
    "i = len(string)-1\n",
    "while i>=0:\n",
    "    reversed_string += string[i]\n",
    "    i-=1\n",
    "    print(\"Reversed String:\",reversed_string)"
   ]
  },
  {
   "cell_type": "code",
   "execution_count": null,
   "id": "3e45e98a-f5e8-415a-b256-78ee0feba810",
   "metadata": {},
   "outputs": [],
   "source": [
    "# 15.Write a Python program to calculate the factorial of a number provided by the user using a while loop.\n",
    "num=int(input(\"Enter a number:\"))\n",
    "if num <0:\n",
    "    print(\"Enter possitive number.\")\n",
    "else:\n",
    "    fact *= i\n",
    "    i += 1\n",
    "    print(\"Factorial of\", num, \"is:\", fact)"
   ]
  }
 ],
 "metadata": {
  "kernelspec": {
   "display_name": "Python 3 (ipykernel)",
   "language": "python",
   "name": "python3"
  },
  "language_info": {
   "codemirror_mode": {
    "name": "ipython",
    "version": 3
   },
   "file_extension": ".py",
   "mimetype": "text/x-python",
   "name": "python",
   "nbconvert_exporter": "python",
   "pygments_lexer": "ipython3",
   "version": "3.12.7"
  }
 },
 "nbformat": 4,
 "nbformat_minor": 5
}
